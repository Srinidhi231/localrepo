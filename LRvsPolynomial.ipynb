{
  "nbformat": 4,
  "nbformat_minor": 0,
  "metadata": {
    "colab": {
      "provenance": [],
      "authorship_tag": "ABX9TyOL432CPtQtaOCW5iKjmGK1",
      "include_colab_link": true
    },
    "kernelspec": {
      "name": "python3",
      "display_name": "Python 3"
    },
    "language_info": {
      "name": "python"
    }
  },
  "cells": [
    {
      "cell_type": "markdown",
      "metadata": {
        "id": "view-in-github",
        "colab_type": "text"
      },
      "source": [
        "<a href=\"https://colab.research.google.com/github/Srinidhi231/localrepo/blob/main/LRvsPolynomial.ipynb\" target=\"_parent\"><img src=\"https://colab.research.google.com/assets/colab-badge.svg\" alt=\"Open In Colab\"/></a>"
      ]
    },
    {
      "cell_type": "code",
      "execution_count": null,
      "metadata": {
        "id": "rDHHud11phK1"
      },
      "outputs": [],
      "source": [
        "import numpy as np\n",
        "import pandas as pd\n",
        "import matplotlib.pyplot as plt\n",
        "from sklearn.datasets import fetch_california_housing\n",
        "from sklearn.model_selection import train_test_split\n",
        "from sklearn.linear_model import LinearRegression\n",
        "from sklearn.preprocessing import PolynomialFeatures, StandardScaler\n",
        "from sklearn.pipeline import make_pipeline\n",
        "from sklearn.metrics import mean_squared_error, r2_score\n",
        "\n",
        "def linear_regression_california():\n",
        "    housing = fetch_california_housing(as_frame=True)\n",
        "    X = housing.data[[\"AveRooms\"]]\n",
        "    y = housing.target\n",
        "\n",
        "    X_train, X_test, y_train, y_test = train_test_split(X, y, test_size=0.2, random_state=42)\n",
        "\n",
        "    model = LinearRegression()\n",
        "    model.fit(X_train, y_train)\n",
        "\n",
        "    y_pred = model.predict(X_test)\n",
        "\n",
        "    plt.scatter(X_test, y_test, color=\"blue\", label=\"Actual\")\n",
        "    plt.plot(X_test, y_pred, color=\"red\", label=\"Predicted\")\n",
        "    plt.xlabel(\"Average number of rooms (AveRooms)\")\n",
        "    plt.ylabel(\"Median value of homes ($100,000)\")\n",
        "    plt.title(\"Linear Regression - California Housing Dataset\")\n",
        "    plt.legend()\n",
        "    plt.show()\n",
        "\n",
        "    print(\"Linear Regression - California Housing Dataset\")\n",
        "    print(\"Mean Squared Error:\", mean_squared_error(y_test, y_pred))\n",
        "    print(\"R^2 Score:\", r2_score(y_test, y_pred))\n",
        "\n",
        "\n",
        "def polynomial_regression_auto_mpg():\n",
        "    url = \"https://archive.ics.uci.edu/ml/machine-learning-databases/auto-mpg/auto-mpg.data\"\n",
        "    column_names = [\"mpg\", \"cylinders\", \"displacement\", \"horsepower\", \"weight\", \"acceleration\", \"model_year\", \"origin\"]\n",
        "    data = pd.read_csv(url, sep='\\s+', names=column_names, na_values=\"?\")\n",
        "    data = data.dropna()\n",
        "\n",
        "    X = data[\"displacement\"].values.reshape(-1, 1)\n",
        "    y = data[\"mpg\"].values\n",
        "\n",
        "    X_train, X_test, y_train, y_test = train_test_split(X, y, test_size=0.2, random_state=42)\n",
        "\n",
        "    poly_model = make_pipeline(PolynomialFeatures(degree=2), StandardScaler(), LinearRegression())\n",
        "    poly_model.fit(X_train, y_train)\n",
        "\n",
        "    y_pred = poly_model.predict(X_test)\n",
        "\n",
        "    plt.scatter(X_test, y_test, color=\"blue\", label=\"Actual\")\n",
        "    plt.scatter(X_test, y_pred, color=\"red\", label=\"Predicted\")\n",
        "    plt.xlabel(\"Displacement\")\n",
        "    plt.ylabel(\"Miles per gallon (mpg)\")\n",
        "    plt.title(\"Polynomial Regression - Auto MPG Dataset\")\n",
        "    plt.legend()\n",
        "    plt.show()\n",
        "\n",
        "    print(\"Polynomial Regression - Auto MPG Dataset\")\n",
        "    print(\"Mean Squared Error:\", mean_squared_error(y_test, y_pred))\n",
        "    print(\"R^2 Score:\", r2_score(y_test, y_pred))\n",
        "\n",
        "\n",
        "if __name__ == \"__main__\":\n",
        "    print(\"Demonstrating Linear Regression and Polynomial Regression\\n\")\n",
        "    linear_regression_california()\n",
        "    polynomial_regression_auto_mpg()"
      ]
    }
  ]
}